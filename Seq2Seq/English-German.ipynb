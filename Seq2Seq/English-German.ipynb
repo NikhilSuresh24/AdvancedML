{
 "cells": [
  {
   "cell_type": "code",
   "execution_count": 1,
   "metadata": {
    "collapsed": true
   },
   "outputs": [],
   "source": [
    "import torch\n",
    "from torch import nn\n",
    "from torch.autograd import Variable\n",
    "from torch.nn import functional as F\n",
    "import random\n",
    "import numpy as np\n",
    "from tqdm import tqdm\n",
    "import unicodedata\n",
    "import string\n",
    "import re"
   ]
  },
  {
   "cell_type": "code",
   "execution_count": 2,
   "metadata": {
    "collapsed": true
   },
   "outputs": [],
   "source": [
    "inFile = open(\"deu-eng/deu.txt\", \"r\")"
   ]
  },
  {
   "cell_type": "code",
   "execution_count": 3,
   "metadata": {
    "collapsed": true
   },
   "outputs": [],
   "source": [
    "# http://stackoverflow.com/a/518232/2809427\n",
    "def unicodeToAscii(s):\n",
    "    return ''.join(\n",
    "        c for c in unicodedata.normalize('NFD', s)\n",
    "        if unicodedata.category(c) != 'Mn'\n",
    "    )\n",
    "\n",
    "# Lowercase, trim, and remove non-letter characters\n",
    "def normalizeString(s):\n",
    "    s = unicodeToAscii(s.lower().strip())\n",
    "    s = re.sub(r\"([.!?])\", r\" \\1\", s)\n",
    "    s = re.sub(r\"[^a-zA-Z.!?]+\", r\" \", s)\n",
    "    return s\n"
   ]
  },
  {
   "cell_type": "code",
   "execution_count": 4,
   "metadata": {
    "collapsed": true
   },
   "outputs": [],
   "source": [
    "#From http://pytorch.org/tutorials/intermediate/seq2seq_translation_tutorial.html\n",
    "\n",
    "SOS_token = 0\n",
    "EOS_token = 1\n",
    "\n",
    "\n",
    "class Lang:\n",
    "    def __init__(self, name):\n",
    "        self.name = name\n",
    "        self.word2index = {}\n",
    "        self.word2count = {}\n",
    "        self.index2word = {0: \"SOS\", 1: \"EOS\"}\n",
    "        self.n_words = 2  # Count SOS and EOS\n",
    "\n",
    "    def addSentence(self, sentence):\n",
    "        for word in sentence.split(' '):\n",
    "            self.addWord(word)\n",
    "\n",
    "    def addWord(self, word):\n",
    "        if word not in self.word2index:\n",
    "            self.word2index[word] = self.n_words\n",
    "            self.word2count[word] = 1\n",
    "            self.index2word[self.n_words] = word\n",
    "            self.n_words += 1\n",
    "        else:\n",
    "            self.word2count[word] += 1\n"
   ]
  },
  {
   "cell_type": "code",
   "execution_count": 5,
   "metadata": {
    "collapsed": true
   },
   "outputs": [],
   "source": [
    "def processData(filename):\n",
    "    data = []\n",
    "    inFile = open(filename,\"r\")\n",
    "    for line in tqdm(inFile):\n",
    "        for element in line.split('\\n'):\n",
    "            for e in element.split('\\t'):\n",
    "                if e != '':\n",
    "                    e = unicodeToAscii(e)\n",
    "                    e = normalizeString(e)\n",
    "                    data.append(e)\n",
    "    return(data)\n",
    "\n",
    "def createPairs(data: list, lang1 : str, lang2: str):\n",
    "    pairs = []\n",
    "    Xs = []\n",
    "    Ys = []\n",
    "    in_lang = Lang(lang1)\n",
    "    out_lang = Lang(lang2)\n",
    "    for pair in range(len(data)//2):\n",
    "        in_lang.addSentence(data[2*pair])\n",
    "        out_lang.addSentence(data[2*pair+1])\n",
    "        Xs.append(data[2*pair])\n",
    "        Ys.append(data[2*pair+1])\n",
    "        pairs.append(np.array([data[2*pair], data[2*pair+1]]))\n",
    "    \n",
    "    return pairs, Xs, Ys, in_lang, out_lang\n",
    "\n",
    "def preprocessing(filename, lang1=\"English\", lang2=\"German\"):\n",
    "    data = processData(filename)\n",
    "    return createPairs(data, lang1, lang2)"
   ]
  },
  {
   "cell_type": "code",
   "execution_count": 6,
   "metadata": {},
   "outputs": [
    {
     "name": "stderr",
     "output_type": "stream",
     "text": [
      "159204it [00:13, 12073.79it/s]\n"
     ]
    }
   ],
   "source": [
    "dataPairs, Xs, Ys, in_lang, out_lang = preprocessing(\"deu-eng/deu.txt\")"
   ]
  },
  {
   "cell_type": "code",
   "execution_count": 7,
   "metadata": {},
   "outputs": [
    {
     "name": "stdout",
     "output_type": "stream",
     "text": [
      "286\n"
     ]
    }
   ],
   "source": [
    "max_len = len(max(Xs, key=len))\n",
    "print(max_len)"
   ]
  },
  {
   "cell_type": "markdown",
   "metadata": {},
   "source": [
    "## Helper Functions"
   ]
  },
  {
   "cell_type": "code",
   "execution_count": 8,
   "metadata": {
    "collapsed": true
   },
   "outputs": [],
   "source": [
    "#From http://pytorch.org/tutorials/intermediate/seq2seq_translation_tutorial.html\n",
    "\n",
    "SOS_token = 0\n",
    "EOS_token = 1\n",
    "\n",
    "\n",
    "class Lang:\n",
    "    def __init__(self, name):\n",
    "        self.name = name\n",
    "        self.word2index = {}\n",
    "        self.word2count = {}\n",
    "        self.index2word = {0: \"SOS\", 1: \"EOS\"}\n",
    "        self.n_words = 2  # Count SOS and EOS\n",
    "\n",
    "    def addSentence(self, sentence):\n",
    "        for word in sentence.split(' '):\n",
    "            self.addWord(word)\n",
    "\n",
    "    def addWord(self, word):\n",
    "        if word not in self.word2index:\n",
    "            self.word2index[word] = self.n_words\n",
    "            self.word2count[word] = 1\n",
    "            self.index2word[self.n_words] = word\n",
    "            self.n_words += 1\n",
    "        else:\n",
    "            self.word2count[word] += 1\n"
   ]
  },
  {
   "cell_type": "code",
   "execution_count": 9,
   "metadata": {
    "collapsed": true
   },
   "outputs": [],
   "source": [
    "#OUTPUT SIZE IS A MAGIC NUM HERE. IF IT CHANGES, MUST CHANGE HERE\n",
    "\n",
    "def indexesFromSentence(lang, sentence):\n",
    "#     while len(sentence) < 31122:\n",
    "#         if sentence[-1] == ' ':\n",
    "#             sentence += '*'\n",
    "#         elif sentence[-1] == '*':\n",
    "#             sentence += ' '\n",
    "    return [lang.word2index[word] for word in sentence.split(' ')]\n",
    "\n",
    "def variableFromIndexes(lang, sentence):\n",
    "    idxes = indexesFromSentence(lang, sentence)\n",
    "    idxes.append(EOS_token)\n",
    "    return Variable(torch.LongTensor(idxes).view(-1,1))\n",
    "\n",
    "def variablesFromPairs(pair):\n",
    "    var1 = variableFromIndexes(in_lang, pair[0])\n",
    "    var2 = variableFromIndexes(out_lang, pair[1])\n",
    "    return var1, var2"
   ]
  },
  {
   "cell_type": "code",
   "execution_count": 10,
   "metadata": {
    "collapsed": true
   },
   "outputs": [],
   "source": [
    "#From http://pytorch.org/tutorials/intermediate/seq2seq_translation_tutorial.html\n",
    "import time\n",
    "import math\n",
    "\n",
    "\n",
    "def asMinutes(s):\n",
    "    m = math.floor(s / 60)\n",
    "    s -= m * 60\n",
    "    return '%dm %ds' % (m, s)\n",
    "\n",
    "\n",
    "def timeSince(since, percent):\n",
    "    now = time.time()\n",
    "    s = now - since\n",
    "    es = s / (percent)\n",
    "    rs = es - s\n",
    "    return '%s (- %s)' % (asMinutes(s), asMinutes(rs))"
   ]
  },
  {
   "cell_type": "markdown",
   "metadata": {},
   "source": [
    "# Neural Network Setup"
   ]
  },
  {
   "cell_type": "code",
   "execution_count": 11,
   "metadata": {
    "collapsed": true
   },
   "outputs": [],
   "source": [
    "class Encoder(nn.Module):\n",
    "    def __init__(self, input_size, hidden_size):\n",
    "        super(Encoder, self).__init__()\n",
    "        self.input_size = input_size\n",
    "        self.hidden_size = hidden_size\n",
    "        self.embedding = nn.Embedding(input_size, hidden_size)\n",
    "        self.gru = nn.GRU(hidden_size, hidden_size)\n",
    "        \n",
    "    def forward(self, inp, hidden):\n",
    "        embed = self.embedding(inp).view(1,1,-1) #reshaping input\n",
    "        output, next_hidden = self.gru(embed, hidden)\n",
    "        return output, next_hidden\n",
    "    \n",
    "    def initHidden(self):\n",
    "        return Variable(torch.zeros(1,1, self.hidden_size))"
   ]
  },
  {
   "cell_type": "code",
   "execution_count": 12,
   "metadata": {
    "collapsed": true
   },
   "outputs": [],
   "source": [
    "class SimpleDecoder(nn.Module):\n",
    "    def __init__(self, hidden_size, output_size):\n",
    "        super(SimpleDecoder, self).__init__()\n",
    "        self.hidden_size = hidden_size\n",
    "        self.output_size = output_size\n",
    "        self.embedding = nn.Embedding(output_size, hidden_size)\n",
    "        self.relu = nn.RELU()\n",
    "        self.gru = nn.GRU(hidden_size, hidden_size)\n",
    "        self.linear = nn.Linear(hidden_size, output_size)\n",
    "        self.softmax = nn.Softmax()\n",
    "    \n",
    "    def forward(self, inp, hidden):\n",
    "        embed = self.relu(self.embedding(inp))\n",
    "        output, next_hidden = self.gru(embed, hidden)\n",
    "        output = self.softmax(self.out(output[0]))\n",
    "        return output, next_hidden\n",
    "    \n",
    "    def initHidden(self):\n",
    "        return Variable(torch.zeros(1,1, self.hidden_size))"
   ]
  },
  {
   "cell_type": "code",
   "execution_count": 13,
   "metadata": {
    "collapsed": true
   },
   "outputs": [],
   "source": [
    "class AttentionDecoder(nn.Module):\n",
    "    def __init__(self, hidden_size, output_size, max_len=max_len, drop_rate=0.1):\n",
    "        super(AttentionDecoder, self).__init__()\n",
    "        self.hidden_size = hidden_size\n",
    "        self.output_size = output_size\n",
    "        self.drop_rate = drop_rate\n",
    "        self.max_len = max_len\n",
    "        \n",
    "#         self.embedding = nn.Embedding(self.output_size, self.hidden_size)\n",
    "        self.linear = nn.Linear(self.output_size, hidden_size)\n",
    "        self.dropper = nn.Dropout(drop_rate)\n",
    "        self.embed_attention = nn.Linear(hidden_size*2, max_len)\n",
    "        self.combine_attention = nn.Linear(hidden_size*2, max_len)\n",
    "        self.gru = nn.GRU(hidden_size, hidden_size)\n",
    "        self.out = nn.Linear(self.hidden_size, self.output_size)\n",
    "    \n",
    "    def forward(self, inp, hidden, encoder_output):\n",
    "        print(self.output_size)\n",
    "        embed = self.dropper(self.linear(encoder_output).view(1,1,-1))\n",
    "        attention_weights = F.softmax(self.embed_attention(torch.cat((embed[0], hidden[0]), 1)), dim=1)\n",
    "        weighted = torch.bmm(attention_weights.unsqueeze(0), encoder_output.unsqueeze(0))\n",
    "        \n",
    "        embed_attention = torch.cat((embed[0], weighted[0]), 1)\n",
    "        attention_combined = F.relu(self.combine_attention(embed_attention).unsqueeze(0))\n",
    "        \n",
    "        output, new_hidden = self.gru(attention_combined, hidden)\n",
    "        output = F.log_softmax(self.out(output[0]), dim=1)\n",
    "        return output, new_hidden, attention_weights\n",
    "    \n",
    "    def initHidden(self):\n",
    "        return Variable(torch.zeros(1,1, self.hidden_size))\n",
    "    "
   ]
  },
  {
   "cell_type": "markdown",
   "metadata": {},
   "source": [
    "## Training"
   ]
  },
  {
   "cell_type": "code",
   "execution_count": 14,
   "metadata": {
    "collapsed": true
   },
   "outputs": [],
   "source": [
    "\n",
    "def train(inp_var, out_var, encoder, decoder, enc_optim, dec_optim, criterion, max_len=max_len, teacher_forcing=True):\n",
    "    encoder_hidden = encoder.initHidden()\n",
    "    \n",
    "    enc_optim.zero_grad();\n",
    "    dec_optim.zero_grad();\n",
    "    input_length = inp_var.size()[0]\n",
    "    target_length = out_var.size()[0]\n",
    "\n",
    "    encoder_outputs = Variable(torch.zeros(max_len, encoder.hidden_size))\n",
    "    \n",
    "    loss = 0\n",
    "    \n",
    "    for inpE in range(input_length):\n",
    "        encoder_output, encoder_hidden = encoder(inp_var[inpE], encoder_hidden)\n",
    "        encoder_outputs[inpE] = encoder_output[0][0]\n",
    "    \n",
    "    decoder_input = Variable(torch.LongTensor([SOS_token]))\n",
    "    decoder_hidden = encoder_hidden\n",
    "    \n",
    "    if teacher_forcing:\n",
    "        for inpD in range(target_length):\n",
    "            decoder_output, decoder_hidden, decoder_attention = decoder(decoder_input, decoder_hidden, encoder_outputs)\n",
    "            loss += criterion(decoder_output, out_var[inpD])\n",
    "            decoder_input += out_var[inpD]\n",
    "    else:\n",
    "        for inpD in range(target_length):\n",
    "            decoder_output, decoder_hidden, decoder_attention = decoder(decoder_input, decoder_hidden, encoder_outputs)\n",
    "            top_val, idx = decoder_output.data.topk(1)\n",
    "            idx = idx[0][0]\n",
    "            \n",
    "            loss += criterion(decoder_output, out_var[inpD])\n",
    "            decoder_input = Variable(torch.LongTensor([[idx]]))\n",
    "            \n",
    "            if idx == EOS_token:\n",
    "                break\n",
    "    \n",
    "    loss.backward() #backprop\n",
    "    enc_optim.step()#add gradients to weights\n",
    "    dec_optim.step()\n",
    "    \n",
    "    return loss.data[0] / target_length\n",
    "        \n",
    "            \n",
    "        \n"
   ]
  },
  {
   "cell_type": "code",
   "execution_count": 15,
   "metadata": {
    "collapsed": true
   },
   "outputs": [],
   "source": [
    "def trainer(encoder, decoder, num_iters, print_time=1000, learning_rate=0.01):\n",
    "    timer = time.time()\n",
    "    enc_optim = torch.optim.SGD(encoder.parameters(),lr=learning_rate)\n",
    "    dec_optim = torch.optim.SGD(decoder.parameters(),lr=learning_rate)\n",
    "    criterion = nn.NLLLoss()\n",
    "    print_loss_total = 0\n",
    "    \n",
    "    pairs = [variablesFromPairs(random.choice(dataPairs)) for n in range(num_iters)]\n",
    "    \n",
    "    for trial in tqdm(range(num_iters)):\n",
    "        pair = pairs[trial]\n",
    "        print(pair[0].size()[0])\n",
    "        inp = pair[0]\n",
    "        out = pair[1]\n",
    "        \n",
    "        loss = train(inp, out, encoder, decoder, enc_optim, dec_optim, max_len)\n",
    "        \n",
    "        print_loss_total += loss\n",
    "        \n",
    "        if (trial + 1) % print_time == 0:\n",
    "            loss_avg = print_loss_total / print_time\n",
    "            print_loss_total = 0\n",
    "            print(loss_avg)\n",
    "            print('%s (%d %d%%) %.4f' % (timeSince(start, (trial + 1) / num_iters), trial + 1, (trial + 1) / n_iters * 100,loss_avg))\n",
    "        \n",
    "    \n",
    "    "
   ]
  },
  {
   "cell_type": "code",
   "execution_count": 16,
   "metadata": {
    "collapsed": true
   },
   "outputs": [],
   "source": [
    "def evaluate(encoder, decoder, sentence, max_len=max_len):\n",
    "    inp = variableFromSentence(in_lang, sentence)\n",
    "    inSize = inp.size()[0]\n",
    "    encoder_hidden = encoder.initHidden()\n",
    "    \n",
    "    enc_outputs = Variable(torch.zeros(max_len, encoder_hidden))\n",
    "    \n",
    "    for i in range(inSize):\n",
    "        encoder_output, encoder_hidden = encoder(inp[i],\n",
    "                                                 encoder_hidden)\n",
    "        encoder_outputs[i] = encoder_outputs[i] + encoder_output[0][0]\n",
    "    \n",
    "    decoder_input = Variable(torch.LongTensor([SOS_token]))\n",
    "    decoder_hidden = encoder_hidden\n",
    "    decoded_words = []\n",
    "    decoder_attention = torch.zeros(max_len, max_len)\n",
    "    \n",
    "    for di in range(max_len):\n",
    "        decoder_output, decoder_hidden, decoder_attention = decoder(decoder_input, decoder_hidden, encoder_outputs)\n",
    "        top_val, idx = decoder_output.data.topk(1)\n",
    "        decoder_attention[di] = decoder.attention.data\n",
    "        idx = idx[0][0]\n",
    "            \n",
    "        loss += criterion(decoder_output, out_var[inpD])\n",
    "        decoder_input = Variable(torch.LongTensor([[idx]]))\n",
    "\n",
    "        if idx == EOS_token:\n",
    "            decoded_words.append(\"<EOS>\")\n",
    "            break\n",
    "        else:\n",
    "            decoded_words.append(out_lang.index2word[idx])\n",
    "        \n",
    "        decoder_input = Variable(torch.LongTensor(idx))\n",
    "        \n",
    "    \n",
    "    return decoded_words, decoder_attentions[:di + 1]\n",
    "\n",
    "    \n",
    "    "
   ]
  },
  {
   "cell_type": "code",
   "execution_count": 17,
   "metadata": {
    "collapsed": true
   },
   "outputs": [],
   "source": [
    "def evalRandomly(encoder, decoder, lang1_name=\"English\", lang2_name=\"German\", num_iters=10):\n",
    "    for i in num_iters:\n",
    "        pair = random.choice(pairs)\n",
    "        decoded_words, attns = evaluate(encoder, decoder, variableFromSentence(pair[0]))\n",
    "        print(lang1_name + \": \" + pair[0])\n",
    "        print(lang2_name + \": \" + pair[1])\n",
    "        out_sentence = \"\".join(decoded_words)\n",
    "        print(\"Prediction: \" + out_sentence)"
   ]
  },
  {
   "cell_type": "code",
   "execution_count": null,
   "metadata": {},
   "outputs": [],
   "source": [
    "hidden_size = 256\n",
    "encoder1 = Encoder(in_lang.n_words, hidden_size)\n",
    "attn_decoder1 = AttentionDecoder(hidden_size, out_lang.n_words, drop_rate=0.1)\n",
    "\n",
    "\n",
    "# if use_cuda:\n",
    "#     encoder1 = encoder1.cuda()\n",
    "#     attn_decoder1 = attn_decoder1.cuda()\n",
    "\n",
    "trainer(encoder1, attn_decoder1, 75000, print_time=5000)\n"
   ]
  },
  {
   "cell_type": "code",
   "execution_count": null,
   "metadata": {
    "collapsed": true
   },
   "outputs": [],
   "source": []
  },
  {
   "cell_type": "code",
   "execution_count": null,
   "metadata": {
    "collapsed": true
   },
   "outputs": [],
   "source": []
  }
 ],
 "metadata": {
  "kernelspec": {
   "display_name": "Python 3",
   "language": "python",
   "name": "python3"
  },
  "language_info": {
   "codemirror_mode": {
    "name": "ipython",
    "version": 3
   },
   "file_extension": ".py",
   "mimetype": "text/x-python",
   "name": "python",
   "nbconvert_exporter": "python",
   "pygments_lexer": "ipython3",
   "version": "3.6.2"
  }
 },
 "nbformat": 4,
 "nbformat_minor": 2
}
